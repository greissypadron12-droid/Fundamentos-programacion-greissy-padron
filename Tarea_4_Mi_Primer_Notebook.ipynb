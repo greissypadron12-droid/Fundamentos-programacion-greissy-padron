{
  "nbformat": 4,
  "nbformat_minor": 0,
  "metadata": {
    "colab": {
      "provenance": [],
      "authorship_tag": "ABX9TyObXszjXJvnlSYR2Z/utgVm",
      "include_colab_link": true
    },
    "kernelspec": {
      "name": "python3",
      "display_name": "Python 3"
    },
    "language_info": {
      "name": "python"
    }
  },
  "cells": [
    {
      "cell_type": "markdown",
      "metadata": {
        "id": "view-in-github",
        "colab_type": "text"
      },
      "source": [
        "<a href=\"https://colab.research.google.com/github/greissypadron12-droid/Fundamentos-programacion-greissy-padron/blob/main/Untitled0.ipynb\" target=\"_parent\"><img src=\"https://colab.research.google.com/assets/colab-badge.svg\" alt=\"Open In Colab\"/></a>"
      ]
    },
    {
      "cell_type": "code",
      "execution_count": 5,
      "metadata": {
        "colab": {
          "base_uri": "https://localhost:8080/"
        },
        "id": "W4QZflmFsodF",
        "outputId": "bdbfc6bb-2ae5-4d78-f000-a0260dbb37d2"
      },
      "outputs": [
        {
          "output_type": "stream",
          "name": "stdout",
          "text": [
            "Hola, mundo este es mi primer notebook\n"
          ]
        }
      ],
      "source": [
        "print(\"Hola, mundo este es mi primer notebook\")"
      ]
    },
    {
      "cell_type": "markdown",
      "source": [
        "Este seria mi primer notebook creado para la materia fundamentos de programacion"
      ],
      "metadata": {
        "id": "G3lvR24CIO4m"
      }
    },
    {
      "cell_type": "markdown",
      "source": [
        "Hola mi nombre es Greissy Guadalupe y esta es mi tarea de google colab donde tambien aprendere a usar GitHub, este es mi primer notebook creado."
      ],
      "metadata": {
        "id": "MUu28mdptMZG"
      }
    }
  ]
}
