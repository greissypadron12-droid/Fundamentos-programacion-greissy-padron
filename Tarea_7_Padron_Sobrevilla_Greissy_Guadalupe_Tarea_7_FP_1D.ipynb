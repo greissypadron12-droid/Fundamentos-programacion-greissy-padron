{
  "nbformat": 4,
  "nbformat_minor": 0,
  "metadata": {
    "colab": {
      "provenance": [],
      "authorship_tag": "ABX9TyNfV5FLZ8XX50evltgo6x6m",
      "include_colab_link": true
    },
    "kernelspec": {
      "name": "python3",
      "display_name": "Python 3"
    },
    "language_info": {
      "name": "python"
    }
  },
  "cells": [
    {
      "cell_type": "markdown",
      "metadata": {
        "id": "view-in-github",
        "colab_type": "text"
      },
      "source": [
        "<a href=\"https://colab.research.google.com/github/greissypadron12-droid/Fundamentos-programacion-greissy-padron/blob/main/Padron_Sobrevilla_Greissy_Guadalupe_Tarea_7_FP_1D.ipynb\" target=\"_parent\"><img src=\"https://colab.research.google.com/assets/colab-badge.svg\" alt=\"Open In Colab\"/></a>"
      ]
    },
    {
      "cell_type": "markdown",
      "source": [
        "# Tarea 7 \"Tipos de datos de Python\"\n",
        "\n",
        "Enteros(int). Son nùmeros enteros sin uso de decimales, son representados por valores positivos y negativos."
      ],
      "metadata": {
        "id": "hG--6BTaBwIi"
      }
    },
    {
      "cell_type": "code",
      "execution_count": 10,
      "metadata": {
        "colab": {
          "base_uri": "https://localhost:8080/"
        },
        "id": "QYTkUPhDAUYB",
        "outputId": "65602adc-14e8-4276-87e1-d0a83cff400f"
      },
      "outputs": [
        {
          "output_type": "stream",
          "name": "stdout",
          "text": [
            "Edad: 18\n",
            "Temperatura: -5\n"
          ]
        }
      ],
      "source": [
        "edad = 18\n",
        "temperatura = -5\n",
        "print(f\"Edad: {edad}\")\n",
        "print(f\"Temperatura: {temperatura}\")"
      ]
    },
    {
      "cell_type": "markdown",
      "source": [
        " (float). Flotante: El uso de nùmeros con decimales"
      ],
      "metadata": {
        "id": "a29aBdxYDsP2"
      }
    },
    {
      "cell_type": "code",
      "source": [
        "pi = 3.1416\n",
        "altura = 1.75\n",
        "print(f\"Pi: {pi}\")\n",
        "print(f\"Altura: {altura}\")"
      ],
      "metadata": {
        "colab": {
          "base_uri": "https://localhost:8080/"
        },
        "id": "xa9XUe2BIyBT",
        "outputId": "e71d50cd-92cf-45b6-b94a-0ea7aad923de"
      },
      "execution_count": 12,
      "outputs": [
        {
          "output_type": "stream",
          "name": "stdout",
          "text": [
            "Pi: 3.1416\n",
            "Altura: 1.75\n"
          ]
        }
      ]
    },
    {
      "cell_type": "markdown",
      "source": [
        "(bool). booleano: Es representante de los valores o cosas lògicas, se representa en true o false. Es inmutable"
      ],
      "metadata": {
        "id": "eCUq2I_vP2x0"
      }
    },
    {
      "cell_type": "code",
      "source": [
        "activo = True\n",
        "es_mayor = False\n",
        "print(f\"Activo: {activo}\")\n",
        "print(f\"Es mayor: {es_mayor}\")"
      ],
      "metadata": {
        "colab": {
          "base_uri": "https://localhost:8080/"
        },
        "id": "RT7JRaTnQPFH",
        "outputId": "233d7424-41eb-4dd6-8f4d-389f8b36699d"
      },
      "execution_count": 16,
      "outputs": [
        {
          "output_type": "stream",
          "name": "stdout",
          "text": [
            "Activo: True\n",
            "Es mayor: False\n"
          ]
        }
      ]
    },
    {
      "cell_type": "markdown",
      "source": [
        "(str). Cadena: Es una secuencia de caracteres, textos entre comillas que se usan para nombres, mensajes o frases."
      ],
      "metadata": {
        "id": "e2ge2wkSQ6NB"
      }
    },
    {
      "cell_type": "code",
      "source": [
        "saludo = \"Hola\"\n",
        "frase = \"Python es muy sencillo y practico para estudiantes de ingenieria de nuevo ingreso\"\n",
        "print(f\"Saludo: {saludo}\")\n",
        "print(f\"Frase: {frase}\")"
      ],
      "metadata": {
        "colab": {
          "base_uri": "https://localhost:8080/"
        },
        "id": "VmwQPkGISQbV",
        "outputId": "094880ee-45eb-4c83-9c24-96f626d94644"
      },
      "execution_count": 21,
      "outputs": [
        {
          "output_type": "stream",
          "name": "stdout",
          "text": [
            "Saludo: Hola\n",
            "Frase: Python es muy sencillo y practico para estudiantes de ingenieria de nuevo ingreso\n"
          ]
        }
      ]
    },
    {
      "cell_type": "markdown",
      "source": [
        "(list). Lista: Permite elementos repetidos y de diferentes tipos, guarda valores en un mismo lugar y es de coleccion ordenada y modificable."
      ],
      "metadata": {
        "id": "pA7clMI4Sk-8"
      }
    },
    {
      "cell_type": "code",
      "source": [
        "numeros = [1, 2, 3, 4]\n",
        "mixta = [10, \"texto\", 3.5, True]\n",
        "print(f\"Números: {numeros}\")\n",
        "print(f\"Mixta: {mixta}\")\n"
      ],
      "metadata": {
        "colab": {
          "base_uri": "https://localhost:8080/"
        },
        "id": "j_1fdnxES18L",
        "outputId": "ef5ea749-b423-48b6-f102-7ae0d341e081"
      },
      "execution_count": 22,
      "outputs": [
        {
          "output_type": "stream",
          "name": "stdout",
          "text": [
            "Números: [1, 2, 3, 4]\n",
            "Mixta: [10, 'texto', 3.5, True]\n"
          ]
        }
      ]
    },
    {
      "cell_type": "markdown",
      "source": [
        "(tuple). Tupla: Es como la lista ya que permite elementos repetidos pero es inmutable ya que no permite que se cambie despues de su creaciòn."
      ],
      "metadata": {
        "id": "Ey-6IAQvS-La"
      }
    },
    {
      "cell_type": "code",
      "source": [
        "coordenadas = (10, 20)\n",
        "datos = (\"Greissy Padron\", 18, \"Altamira\")\n",
        "print(f\"Coordenadas: {coordenadas}\")\n",
        "print(f\"Datos: {datos}\")"
      ],
      "metadata": {
        "colab": {
          "base_uri": "https://localhost:8080/"
        },
        "id": "3WNhvApRTgMK",
        "outputId": "1e13e6ca-c16d-4d5b-fb21-db0029313f3b"
      },
      "execution_count": 23,
      "outputs": [
        {
          "output_type": "stream",
          "name": "stdout",
          "text": [
            "Coordenadas: (10, 20)\n",
            "Datos: ('Greissy Padron', 18, 'Altamira')\n"
          ]
        }
      ]
    },
    {
      "cell_type": "code",
      "source": [
        "tupla1 = (1, 2, 3)\n",
        "tupla2 = (\"x\", \"y\", \"z\")\n",
        "tupla3 = (10, 20)\n",
        "tupla4 = (\"Greissy Padron\", 18)\n",
        "tupla5 = ()\n",
        "print(\"Tuplas:\", tupla1, tupla2, tupla3, tupla4, tupla5)"
      ],
      "metadata": {
        "colab": {
          "base_uri": "https://localhost:8080/"
        },
        "id": "fvrz7wBWT23K",
        "outputId": "4435fcd7-0e69-46f4-b79a-e1d9b0a3bc61"
      },
      "execution_count": 24,
      "outputs": [
        {
          "output_type": "stream",
          "name": "stdout",
          "text": [
            "Tuplas: (1, 2, 3) ('x', 'y', 'z') (10, 20) ('Greissy Padron', 18) ()\n"
          ]
        }
      ]
    },
    {
      "cell_type": "markdown",
      "source": [
        "(set). Conjunto:  Es como una bolsa de cosas donde se meten datos, no hay un orden y no se permiten duplicados"
      ],
      "metadata": {
        "id": "9OfrDShPUBI0"
      }
    },
    {
      "cell_type": "code",
      "source": [
        "colores = {\"rojo\", \"azul\", \"verde\"}\n",
        "numeros_unicos = {1, 2, 3, 3, 2}\n",
        "print(f\"Colores: {colores}\")\n",
        "print(f\"Números únicos: {numeros_unicos}\")"
      ],
      "metadata": {
        "colab": {
          "base_uri": "https://localhost:8080/"
        },
        "id": "_RiR4BHrlDJU",
        "outputId": "12488e7e-cb57-441c-d348-ea36a006ca24"
      },
      "execution_count": 25,
      "outputs": [
        {
          "output_type": "stream",
          "name": "stdout",
          "text": [
            "Colores: {'azul', 'verde', 'rojo'}\n",
            "Números únicos: {1, 2, 3}\n"
          ]
        }
      ]
    },
    {
      "cell_type": "markdown",
      "source": [
        "(frozenset). Conjunto inmutable: Se introducen datos, no hay un orden pero no se modifica, sirve es un grupo de datos unicos que no cambien."
      ],
      "metadata": {
        "id": "00Q_94QyqLfM"
      }
    },
    {
      "cell_type": "code",
      "source": [
        "fs1 = frozenset([1, 2, 3])\n",
        "fs2 = frozenset({\"manzana\", \"pera\", \"uva\"})\n",
        "print(f\"Frozenset 1: {fs1}\")\n",
        "print(f\"Frozenset 2: {fs2}\")"
      ],
      "metadata": {
        "colab": {
          "base_uri": "https://localhost:8080/"
        },
        "id": "I0fD8EHVrBL0",
        "outputId": "86b7ae86-5291-49a5-b9db-c3f18c9ccce2"
      },
      "execution_count": 26,
      "outputs": [
        {
          "output_type": "stream",
          "name": "stdout",
          "text": [
            "Frozenset 1: frozenset({1, 2, 3})\n",
            "Frozenset 2: frozenset({'manzana', 'uva', 'pera'})\n"
          ]
        }
      ]
    },
    {
      "cell_type": "markdown",
      "source": [
        "(dict). Diccionario: De coleccion, pares clave-valor, unicas e inmutables. Permiten organizar y recuperar datos de forma eficaz utilizando claves. Son como agendas."
      ],
      "metadata": {
        "id": "vXOHU7rYrHFn"
      }
    },
    {
      "cell_type": "code",
      "source": [
        "persona = {\"nombre\": \"Ana\", \"edad\": 20}\n",
        "calificaciones = {\"Mate\": 95, \"Inglés\": 88}\n",
        "print(f\"Persona: {persona}\")\n",
        "print(f\"Calificaciones: {calificaciones}\")"
      ],
      "metadata": {
        "colab": {
          "base_uri": "https://localhost:8080/"
        },
        "id": "vOJdNEAoriLb",
        "outputId": "a2da8832-02ca-444f-a37c-c908a1b4529f"
      },
      "execution_count": 27,
      "outputs": [
        {
          "output_type": "stream",
          "name": "stdout",
          "text": [
            "Persona: {'nombre': 'Ana', 'edad': 20}\n",
            "Calificaciones: {'Mate': 95, 'Inglés': 88}\n"
          ]
        }
      ]
    },
    {
      "cell_type": "markdown",
      "source": [
        "(bytes). Secuencia inmutables de enteros entre 0 y 255, se usa para archivos, imagenes o datos de red. Se ve como texto pero son numeros que representan caracteres. Para explicar es como una caja que guarda secuencias y es inmutable. Sirve para manejqar informacion tal cual lo entiende la computadora."
      ],
      "metadata": {
        "id": "39e_IS_ZrnRW"
      }
    },
    {
      "cell_type": "code",
      "source": [
        "b1 = b\"Hola\"\n",
        "b2 = bytes([65, 66, 67])\n",
        "print(f\"Bytes 1: {b1}\")\n",
        "print(f\"Bytes 2: {b2}\")\n"
      ],
      "metadata": {
        "colab": {
          "base_uri": "https://localhost:8080/"
        },
        "id": "e0A5UVFor5n0",
        "outputId": "ad82d2fe-ceda-4189-b874-67e81d8cfb38"
      },
      "execution_count": 28,
      "outputs": [
        {
          "output_type": "stream",
          "name": "stdout",
          "text": [
            "Bytes 1: b'Hola'\n",
            "Bytes 2: b'ABC'\n"
          ]
        }
      ]
    },
    {
      "cell_type": "markdown",
      "source": [
        "(bytearray). Es una secuencia de datos binarios, utilizando el ejemplo de la caja en este la caja si se puede abrir y cambiar de datos. Un ejemplo es para editar datos en un archivo de memoria.  "
      ],
      "metadata": {
        "id": "F7OoC9ner-MS"
      }
    },
    {
      "cell_type": "code",
      "source": [
        "ba1 = bytearray([65, 66, 67])\n",
        "ba2 = bytearray(b\"Python\")\n",
        "print(f\"Bytearray 1 antes: {ba1}\")\n",
        "print(f\"Bytearray 2 antes: {ba2}\")\n",
        "ba2[0] = 90  # cambio la 'P' (80) por 'Z' (90 en ASCII)\n",
        "print(f\"Bytearray 1 después: {ba1}\")\n",
        "print(f\"Bytearray 2 después: {ba2}\")"
      ],
      "metadata": {
        "colab": {
          "base_uri": "https://localhost:8080/"
        },
        "id": "LmJhh0hWs9vu",
        "outputId": "425bdac4-5d3b-4580-ecb2-71a1df5a6b5e"
      },
      "execution_count": 29,
      "outputs": [
        {
          "output_type": "stream",
          "name": "stdout",
          "text": [
            "Bytearray 1 antes: bytearray(b'ABC')\n",
            "Bytearray 2 antes: bytearray(b'Python')\n",
            "Bytearray 1 después: bytearray(b'ABC')\n",
            "Bytearray 2 después: bytearray(b'Zython')\n"
          ]
        }
      ]
    },
    {
      "cell_type": "markdown",
      "source": [
        "NoneType: Representa la ausencia de valor a menudo para marcador de posicion, variables no inicializadas que no devuelven nada explicitamente. Util en casos de  operacioòn sin producciòn de resultado o alguna variale sin valor incial."
      ],
      "metadata": {
        "id": "AeMTwRGjtTBN"
      }
    },
    {
      "cell_type": "code",
      "source": [
        "dato = None\n",
        "resultado = None\n",
        "print(f\"Dato: {dato}\")\n",
        "print(f\"Resultado: {resultado}\")"
      ],
      "metadata": {
        "colab": {
          "base_uri": "https://localhost:8080/"
        },
        "id": "lhEl8MV-xEdK",
        "outputId": "ea531540-6da5-408b-d3cc-14bce75e8c4b"
      },
      "execution_count": 31,
      "outputs": [
        {
          "output_type": "stream",
          "name": "stdout",
          "text": [
            "Dato: None\n",
            "Resultado: None\n"
          ]
        }
      ]
    },
    {
      "cell_type": "code",
      "source": [
        "# 1. int → contar elementos\n",
        "cantidad_usuarios = 120\n",
        "print(\"Cantidad de usuarios:\", cantidad_usuarios)\n",
        "\n",
        "# 2. float → cálculos con decimales\n",
        "precio_producto = 49.99\n",
        "print(\"Precio del producto:\", precio_producto)\n",
        "\n",
        "# 3. complex → cálculos científicos\n",
        "numero_complejo = 3 + 4j\n",
        "print(\"Número complejo:\", numero_complejo)\n",
        "\n",
        "# 4. bool → decisiones\n",
        "esta_activo = True\n",
        "print(\"Usuario activo:\", esta_activo)\n",
        "\n",
        "# 5. str → texto\n",
        "nombre_usuario = \"Greiss\"\n",
        "print(\"Nombre del usuario:\", nombre_usuario)\n",
        "\n",
        "# 6. list → lista de datos dinámicos\n",
        "registros = [\"Ana\", \"Pedro\", \"Luis\"]\n",
        "print(\"Registros:\", registros)\n",
        "\n",
        "# 7. tuple → datos que no cambian\n",
        "coordenadas = (10.5, 20.3)\n",
        "print(\"Coordenadas:\", coordenadas)\n",
        "\n",
        "# 8. set → eliminar duplicados\n",
        "numeros_unicos = {1, 2, 3, 3, 2}\n",
        "print(\"Números únicos:\", numeros_unicos)\n",
        "\n",
        "# 9. frozenset → conjunto inmutable\n",
        "permisos = frozenset([\"leer\", \"escribir\", \"ejecutar\"])\n",
        "print(\"Permisos:\", permisos)\n",
        "\n",
        "# 10. dict → datos estructurados\n",
        "usuario = {\"nombre\": \"Ana\", \"edad\": 25, \"correo\": \"ana@mail.com\"}\n",
        "print(\"Usuario:\", usuario)\n",
        "\n",
        "# 11. bytes → datos binarios inmutables\n",
        "archivo_bytes = b\"Hola mundo\"\n",
        "print(\"Archivo en bytes:\", archivo_bytes)\n",
        "\n",
        "# 12. bytearray → datos binarios mutables\n",
        "archivo_editable = bytearray(b\"Hola mundo\")\n",
        "archivo_editable[0] = 72  # modificamos un dato binario\n",
        "print(\"Archivo editable:\", archivo_editable)\n",
        "\n",
        "# 13. NoneType → ausencia de valor\n",
        "resultado_busqueda = None\n",
        "print(\"Resultado de búsqueda:\", resultado_busqueda)"
      ],
      "metadata": {
        "colab": {
          "base_uri": "https://localhost:8080/"
        },
        "id": "b3FvUNmVxfKA",
        "outputId": "9deb30e0-7d87-4595-d148-1d28a1ffea44"
      },
      "execution_count": 32,
      "outputs": [
        {
          "output_type": "stream",
          "name": "stdout",
          "text": [
            "Cantidad de usuarios: 120\n",
            "Precio del producto: 49.99\n",
            "Número complejo: (3+4j)\n",
            "Usuario activo: True\n",
            "Nombre del usuario: Greiss\n",
            "Registros: ['Ana', 'Pedro', 'Luis']\n",
            "Coordenadas: (10.5, 20.3)\n",
            "Números únicos: {1, 2, 3}\n",
            "Permisos: frozenset({'ejecutar', 'escribir', 'leer'})\n",
            "Usuario: {'nombre': 'Ana', 'edad': 25, 'correo': 'ana@mail.com'}\n",
            "Archivo en bytes: b'Hola mundo'\n",
            "Archivo editable: bytearray(b'Hola mundo')\n",
            "Resultado de búsqueda: None\n"
          ]
        }
      ]
    }
  ]
}
